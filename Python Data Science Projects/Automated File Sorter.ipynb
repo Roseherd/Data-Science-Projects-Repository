{
 "cells": [
  {
   "cell_type": "markdown",
   "id": "a0c4005a-c428-49f7-a667-93f1cd89523b",
   "metadata": {},
   "source": [
    "# Automated File Sorter in File Explorer"
   ]
  },
  {
   "cell_type": "code",
   "execution_count": 1,
   "id": "c4f0ec21-0d39-4341-9de8-a2de41ee8f95",
   "metadata": {},
   "outputs": [],
   "source": [
    "# Importing the required libraries\n",
    "import os, shutil"
   ]
  },
  {
   "cell_type": "code",
   "execution_count": 3,
   "id": "768bd874-1a6f-42f5-b780-c009a4e7b845",
   "metadata": {},
   "outputs": [],
   "source": [
    "# Creating a variable for the path containing the files to be sorted\n",
    "path = r\"C:/Users/Hp/OneDrive/Documents/File Sorter Trial/\""
   ]
  },
  {
   "cell_type": "code",
   "execution_count": 5,
   "id": "13c97a05-9d7a-4616-88b4-7e8fe1791232",
   "metadata": {},
   "outputs": [],
   "source": [
    "# Creating a list that contains the names of the files in the path\n",
    "file_name = os.listdir(path)"
   ]
  },
  {
   "cell_type": "code",
   "execution_count": 7,
   "id": "6b02aa95-437b-40b6-ae96-697ebf4917d9",
   "metadata": {
    "scrolled": true
   },
   "outputs": [
    {
     "data": {
      "text/plain": [
       "['Audio Files',\n",
       " 'Cloud Computing.png',\n",
       " 'CSV Files',\n",
       " 'dd3aa3bc517b7a1837707e840149e7fe.jpg',\n",
       " 'Detailed product sale report.xlsx',\n",
       " 'EP.11.v0.1723854105.1080p.mp4',\n",
       " 'Excel Files',\n",
       " 'Image Files',\n",
       " 'Kate coleman.pdf',\n",
       " 'PDF Files',\n",
       " 'Powerpoint Files',\n",
       " 'Python-Projects-Predicting-Parkinsons-Disease.zip',\n",
       " 'S-34_E_002 (1).docx',\n",
       " 'Sociology_summary.pdf',\n",
       " 'Text Files',\n",
       " 'this man is a genius meme.jpeg',\n",
       " 'Video Files',\n",
       " 'Word Documents',\n",
       " 'Zip Folders']"
      ]
     },
     "execution_count": 7,
     "metadata": {},
     "output_type": "execute_result"
    }
   ],
   "source": [
    "# Checking the contents of the list\n",
    "file_name"
   ]
  },
  {
   "cell_type": "code",
   "execution_count": 9,
   "id": "73a899e1-52cf-439a-a310-bb529bb1b27e",
   "metadata": {},
   "outputs": [
    {
     "name": "stdout",
     "output_type": "stream",
     "text": [
      "There are files in this path that were not moved\n",
      "There are files in this path that were not moved\n",
      "There are files in this path that were not moved\n",
      "There are files in this path that were not moved\n",
      "There are files in this path that were not moved\n",
      "There are files in this path that were not moved\n",
      "There are files in this path that were not moved\n",
      "There are files in this path that were not moved\n",
      "There are files in this path that were not moved\n",
      "There are files in this path that were not moved\n",
      "There are files in this path that were not moved\n"
     ]
    }
   ],
   "source": [
    "# Names of folders to be created\n",
    "folder_names = [\"CSV Files\", \"Image Files\", \"Powerpoint Files\", \"Text Files\", \"Video Files\",\n",
    "               \"Audio Files\", \"Word Documents\", \"Excel Files\", \"Zip Folders\", \"PDF Files\" \n",
    "               ]\n",
    "# To create the folders if they don't already exist\n",
    "for folder in range(len(folder_names)):\n",
    "    if not os.path.exists(path + folder_names[folder]):\n",
    "        os.makedirs(path + folder_names[folder])\n",
    "\n",
    "# To move the correct file types into their appropriate folders\n",
    "for file in file_name:\n",
    "    if \".csv\" in file and not os.path.exists(path + \"CSV Files/\" + file):\n",
    "        shutil.move(path + file, path + \"CSV Files/\" + file)\n",
    "    elif \".jpeg\" in file and not os.path.exists(path + \"Image Files/\" + file):\n",
    "        shutil.move(path + file, path + \"Image Files/\" + file)\n",
    "    elif \".jpg\" in file and not os.path.exists(path + \"Image Files/\" + file):\n",
    "        shutil.move(path + file, path + \"Image Files/\" + file)\n",
    "    elif \".png\" in file and not os.path.exists(path + \"Image Files/\" + file):\n",
    "        shutil.move(path + file, path + \"Image Files/\" + file)\n",
    "    elif \".ppt\" in file and not os.path.exists(path + \"Powerpoint Files/\" + file):\n",
    "        shutil.move(path + file, path + \"Powerpoint Files/\" + file)\n",
    "    elif \".pptx\" in file and not os.path.exists(path + \"Powerpoint Files/\" + file):\n",
    "        shutil.move(path + file, path + \"Powerpoint Files/\" + file)\n",
    "    elif \".txt\" in file and not os.path.exists(path + \"Text Files/\" + file):\n",
    "        shutil.move(path + file, path + \"Text Files/\" + file)\n",
    "    elif \".mp4\" in file and not os.path.exists(path + \"Video Files/\" + file):\n",
    "        shutil.move(path + file, path + \"Video Files/\" + file)\n",
    "    elif \".mpeg\" in file and not os.path.exists(path + \"Video Files/\" + file):\n",
    "        shutil.move(path + file, path + \"Video Files/\" + file)\n",
    "    elif \".mp3\" in file and not os.path.exists(path + \"Audio Files/\" + file):\n",
    "        shutil.move(path + file, path + \"Audio Files/\" + file)\n",
    "    elif \".doc\" in file and not os.path.exists(path + \"Word Documents/\" + file):\n",
    "        shutil.move(path + file, path + \"Word Documents/\" + file)\n",
    "    elif \".docx\" in file and not os.path.exists(path + \"Word Documents/\" + file):\n",
    "        shutil.move(path + file, path + \"Word Documents/\" + file)\n",
    "    elif \".xls\" in file and not os.path.exists(path + \"Excel Files/\" + file):\n",
    "        shutil.move(path + file, path + \"Excel Files/\" + file)\n",
    "    elif \".xlsx\" in file and not os.path.exists(path + \"Excel Files/\" + file):\n",
    "        shutil.move(path + file, path + \"Excel Files/\" + file)\n",
    "    elif \".zip\" in file and not os.path.exists(path + \"Zip Folders/\" + file):\n",
    "        shutil.move(path + file, path + \"Zip Folders/\" + file)\n",
    "    elif \".pdf\" in file and not os.path.exists(path + \"PDF Files/\" + file):\n",
    "        shutil.move(path + file, path + \"PDF Files/\" + file)\n",
    "    else:\n",
    "        print(\"There are files in this path that were not moved\")"
   ]
  },
  {
   "cell_type": "code",
   "execution_count": null,
   "id": "4ce5b2a9-59b0-49c3-b2e4-655c19dd64c8",
   "metadata": {},
   "outputs": [],
   "source": []
  }
 ],
 "metadata": {
  "kernelspec": {
   "display_name": "Python 3 (ipykernel)",
   "language": "python",
   "name": "python3"
  },
  "language_info": {
   "codemirror_mode": {
    "name": "ipython",
    "version": 3
   },
   "file_extension": ".py",
   "mimetype": "text/x-python",
   "name": "python",
   "nbconvert_exporter": "python",
   "pygments_lexer": "ipython3",
   "version": "3.11.7"
  }
 },
 "nbformat": 4,
 "nbformat_minor": 5
}
